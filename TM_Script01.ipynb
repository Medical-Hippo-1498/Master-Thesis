{
 "cells": [
  {
   "cell_type": "markdown",
   "source": "# Objective\n## 1. Flatten the comment data in case in comes in the following format:\n\n{\n  \"Video #1\": {\n    \"title\": \"Pseudo title\",\n    \"views\": \"X XXX XXX\",\n    \"up_votes\": X,\n    \"down_votes\": X,\n    \"Ratio_of_upvotes_to_downvotes\": X,\n    \"author\": \"Pseudo creator\",\n    \"author_subscriber\": X,\n    \"categories\": [\n      \"Category #1\",\n      \"Category #2\",\n      \"Category #3\"\n    ],\n    \"production\": \"Type of production\",\n    \"description\": \"Description of the video\",\n    \"duration\": X,\n    \"upload_date\": \"Pseudo upload date\",\n    \"thumbnail_url\": \"https://pseudo-url.jpg\",\n    \"number_of_comment\": X,\n    \"comments\": [\n      {\n        \"avatar\": \"https://pseudo-url.png\",\n        \"username\": \"Pseudo username #1\",\n        \"date\": \"Date of the comment #1\",\n        \"message\": \"Pseudo comment #1\"\n      },\n      {\n        \"avatar\": \"https://pseudo-url.png\",\n        \"username\": \"Pseudo username #2\",\n        \"date\": \"Date of the comment #2\",\n        \"message\": \"Pseudo comment #2\"\n      },\n      {\n        \"avatar\": \"https://pseudo-url.png\",\n        \"username\": \"Pseudo username #3\",\n        \"date\": \"Date of the comment #3\",\n        \"message\": \"Pseudo comment #3\"\n      }\n  }\n  \"Video #2\": ...\n}\n\n## 2. Flag non-English comments\n",
   "metadata": {
    "tags": [],
    "cell_id": "00000-07a836b1-7a1f-4314-87e3-61f054280266",
    "deepnote_cell_type": "markdown"
   }
  },
  {
   "cell_type": "markdown",
   "source": "# Import the data and modules",
   "metadata": {
    "tags": [],
    "cell_id": "00001-19e311f4-c288-4958-b2e3-0acc0855f749",
    "deepnote_cell_type": "markdown"
   }
  },
  {
   "cell_type": "code",
   "metadata": {
    "deepnote_to_be_reexecuted": false,
    "execution_millis": 1,
    "source_hash": "d237b861",
    "tags": [],
    "execution_start": 1625140973173,
    "cell_id": "00002-15c86df8-d8e4-49df-9ab2-51380d747365",
    "deepnote_cell_type": "code"
   },
   "source": "import warnings\nwarnings.filterwarnings(\"ignore\", category=DeprecationWarning)\n\nimport numpy as np\nimport pandas as pd\nimport itertools",
   "outputs": [],
   "execution_count": 1
  },
  {
   "cell_type": "markdown",
   "source": "## Import the data",
   "metadata": {
    "tags": [],
    "cell_id": "00003-6643cf15-275c-4246-9f1c-0e993f9de573",
    "deepnote_cell_type": "markdown"
   }
  },
  {
   "cell_type": "code",
   "metadata": {
    "deepnote_to_be_reexecuted": false,
    "execution_millis": 267,
    "source_hash": "7fd567f3",
    "tags": [],
    "execution_start": 1625141007984,
    "cell_id": "00004-a7dc8748-68ce-4cd1-b362-9a13127aef52",
    "deepnote_cell_type": "code"
   },
   "source": "data = pd.read_json(\"CleanDataComments.json\")\nsub_data = data",
   "execution_count": 4
  },
  {
   "cell_type": "markdown",
   "source": "# Duplicate the rows Ni times (where N = nb of comments for the video i)",
   "metadata": {
    "tags": [],
    "cell_id": "00006-3edf49ef-68a7-4d98-9173-13d1f1f23551",
    "deepnote_cell_type": "markdown"
   }
  },
  {
   "cell_type": "markdown",
   "source": "## Determine the number of times to repeat each row",
   "metadata": {
    "tags": [],
    "cell_id": "00007-21dbc62b-dce7-4bad-a663-141848ac5935",
    "deepnote_cell_type": "markdown"
   }
  },
  {
   "cell_type": "code",
   "metadata": {
    "deepnote_to_be_reexecuted": false,
    "execution_millis": 0,
    "source_hash": "72f774e3",
    "tags": [],
    "execution_start": 1614437429394,
    "cell_id": "00008-b0dbf60f-7041-43ad-8b89-ed207290c4e6",
    "deepnote_cell_type": "code"
   },
   "source": "com_per_vid = []\n\nfor video in range(len(sub_data)):\n    com_per_vid.append(len(sub_data[\"comments\"][video][\"clean\"]) + len(sub_data[\"comments\"][video][\"dirty\"]))\n\nsub_data[\"repeat_n_times\"] = com_per_vid",
   "outputs": [],
   "execution_count": null
  },
  {
   "cell_type": "markdown",
   "source": "## Repeat the rows",
   "metadata": {
    "tags": [],
    "cell_id": "00009-31277ef0-ab25-4b59-b0a4-25eb6645d17f",
    "deepnote_cell_type": "markdown"
   }
  },
  {
   "cell_type": "code",
   "metadata": {
    "deepnote_to_be_reexecuted": false,
    "execution_millis": 68,
    "source_hash": "701d38ef",
    "tags": [],
    "execution_start": 1614437432234,
    "cell_id": "00010-f9024368-aece-4089-abd5-dec91d03c888",
    "deepnote_cell_type": "code"
   },
   "source": "sub_data_max = sub_data.loc[sub_data.index.repeat(sub_data.repeat_n_times)].reset_index(drop=True)\n",
   "outputs": [],
   "execution_count": null
  },
  {
   "cell_type": "markdown",
   "source": "## Create a list with all of the comments from all the videos",
   "metadata": {
    "tags": [],
    "cell_id": "00011-fec8cb14-817e-444f-8f56-2257b25eb35c",
    "deepnote_cell_type": "markdown"
   }
  },
  {
   "cell_type": "code",
   "metadata": {
    "deepnote_to_be_reexecuted": false,
    "execution_millis": 2204,
    "source_hash": "29d703cb",
    "tags": [],
    "execution_start": 1614437434795,
    "cell_id": "00012-c8db09ee-536a-42d6-ab09-335fcbdfb83f",
    "deepnote_cell_type": "code"
   },
   "source": "com_list = []\ncom_clean = []\ncom_total_vote = []\n\nfor video in range(len(sub_data)):\n    for com in range(len(sub_data[\"comments\"][video][\"clean\"])):\n        comment = list(sub_data[\"comments\"][video][\"clean\"][com].values())\n        com_list.append(comment[3])\n\n        cleanliness = True\n        com_clean.append(cleanliness)\n        \n        com_total_vote.append(comment[4])\n        \n    for com in range(len(sub_data[\"comments\"][video][\"dirty\"])):\n        comment = list(sub_data[\"comments\"][video][\"dirty\"][com].values())\n        com_list.append(comment[3])\n\n        cleanliness = False\n        com_clean.append(cleanliness)\n        \n        com_total_vote.append(comment[4])",
   "outputs": [],
   "execution_count": null
  },
  {
   "cell_type": "markdown",
   "source": "## Create a columns for comments (\"comms\") and their bot classification (\"clean\")",
   "metadata": {
    "tags": [],
    "cell_id": "00013-a02078c7-c2e8-40ec-a8d7-e40df80fd876",
    "deepnote_cell_type": "markdown"
   }
  },
  {
   "cell_type": "code",
   "metadata": {
    "deepnote_to_be_reexecuted": false,
    "execution_millis": 130,
    "source_hash": "e6fc3aa3",
    "tags": [],
    "execution_start": 1614437439564,
    "cell_id": "00014-ee39239d-f3a7-4c71-a371-2274d3b24f47",
    "deepnote_cell_type": "code"
   },
   "source": "sub_data_max[\"comms\"] = com_list\nsub_data_max[\"clean\"] = com_clean\nsub_data_max[\"total_vote\"] = com_total_vote",
   "outputs": [],
   "execution_count": null
  },
  {
   "cell_type": "markdown",
   "source": "# Flag non-english comments",
   "metadata": {
    "tags": [],
    "cell_id": "00015-3d41060d-9433-4095-8f9c-fce3d810a323",
    "deepnote_cell_type": "markdown"
   }
  },
  {
   "cell_type": "code",
   "metadata": {
    "deepnote_to_be_reexecuted": false,
    "execution_millis": 1771,
    "source_hash": "17282629",
    "tags": [],
    "execution_start": 1614437443429,
    "cell_id": "00017-e78681c6-f4bd-47cc-9f07-340c36e9be8e",
    "deepnote_cell_type": "code"
   },
   "source": "is_eng = []\nfor video in range(len(sub_data_max)):\n    if sub_data_max[\"comms\"][video].isascii() == True:\n        eng = True\n        is_eng.append(eng)\n    else:\n        eng = False\n        is_eng.append(eng)",
   "outputs": [],
   "execution_count": null
  },
  {
   "cell_type": "code",
   "metadata": {
    "deepnote_to_be_reexecuted": false,
    "execution_millis": 20,
    "source_hash": "df303b2f",
    "tags": [],
    "execution_start": 1614437446296,
    "cell_id": "00018-ca9fca1c-0ea5-4565-99d9-d42fc1b6f107",
    "deepnote_cell_type": "code"
   },
   "source": "sub_data_max[\"is_eng\"] = is_eng",
   "outputs": [],
   "execution_count": null
  },
  {
   "cell_type": "markdown",
   "source": "# Save the data",
   "metadata": {
    "tags": [],
    "cell_id": "00021-77daa22c-689d-4ec6-a50b-6a4cc6387a22",
    "deepnote_cell_type": "markdown"
   }
  },
  {
   "cell_type": "code",
   "metadata": {
    "deepnote_to_be_reexecuted": false,
    "execution_millis": 16747,
    "source_hash": "d05e52bb",
    "tags": [],
    "execution_start": 1614409393687,
    "cell_id": "00022-9f36e3cc-241d-4d4d-8e61-1655bb40cfbb",
    "deepnote_cell_type": "code"
   },
   "source": "#Get rid of unecessary columns\nsub_data_max = sub_data_max.drop([\"comments\", \"related_videos\"], axis = 1)\n\n#Save to csv\nsub_data_max.to_csv(r'ReadyForAnalysis.csv')",
   "outputs": [],
   "execution_count": null
  },
  {
   "cell_type": "markdown",
   "source": "<a style='text-decoration:none;line-height:16px;display:flex;color:#5B5B62;padding:10px;justify-content:end;' href='https://deepnote.com?utm_source=created-in-deepnote-cell&projectId=5b677b82-ea1e-4dc8-9b2a-3c037ad9d27c' target=\"_blank\">\n<img alt='Created in deepnote.com' style='display:inline;max-height:16px;margin:0px;margin-right:7.5px;' src='data:image/svg+xml;base64,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' > </img>\nCreated in <span style='font-weight:600;margin-left:4px;'>Deepnote</span></a>",
   "metadata": {
    "tags": [],
    "created_in_deepnote_cell": true,
    "deepnote_cell_type": "markdown"
   }
  }
 ],
 "nbformat": 4,
 "nbformat_minor": 2,
 "metadata": {
  "deepnote_execution_queue": [],
  "deepnote_notebook_id": "66efbdce-5af8-4284-aa91-eccd3f8ca31f",
  "kernelspec": {
   "display_name": "Python 3",
   "language": "python",
   "name": "python3"
  },
  "language_info": {
   "codemirror_mode": {
    "name": "ipython",
    "version": 3
   },
   "file_extension": ".py",
   "mimetype": "text/x-python",
   "name": "python",
   "nbconvert_exporter": "python",
   "pygments_lexer": "ipython3",
   "version": "3.8.5"
  },
  "deepnote": {}
 }
}
