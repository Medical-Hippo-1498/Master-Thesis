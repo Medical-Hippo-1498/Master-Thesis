{
 "cells": [
  {
   "cell_type": "markdown",
   "source": "# Objective\n## 1. Flag bots",
   "metadata": {
    "tags": [],
    "cell_id": "00000-feeb07e0-62fe-41cc-8708-18953f681128",
    "deepnote_cell_type": "markdown"
   }
  },
  {
   "cell_type": "markdown",
   "source": "# Import modules",
   "metadata": {
    "tags": [],
    "cell_id": "00001-ce5f6137-992f-4f56-be58-a67beb264353",
    "deepnote_cell_type": "markdown"
   }
  },
  {
   "cell_type": "code",
   "metadata": {
    "deepnote_to_be_reexecuted": false,
    "execution_millis": 2,
    "source_hash": "e7b2ba5",
    "tags": [],
    "execution_start": 1625140282241,
    "cell_id": "00002-c999b59e-6307-4772-8e44-a5aaf32ed5aa",
    "deepnote_cell_type": "code"
   },
   "source": "import warnings\nwarnings.filterwarnings(\"ignore\", category=DeprecationWarning)\n\nimport pandas as pd\nimport numpy as np\nimport re",
   "outputs": [],
   "execution_count": 2
  },
  {
   "cell_type": "markdown",
   "source": "# Import data",
   "metadata": {
    "tags": [],
    "cell_id": "00003-be3da627-c050-4107-8f2f-f4c9829c53fc",
    "deepnote_cell_type": "markdown"
   }
  },
  {
   "cell_type": "code",
   "metadata": {
    "deepnote_to_be_reexecuted": false,
    "execution_millis": 3348,
    "source_hash": "33d59911",
    "tags": [],
    "execution_start": 1614424073412,
    "cell_id": "00004-bb9211f7-40c1-4b92-8f41-27f9f47647dd",
    "deepnote_cell_type": "code"
   },
   "source": "# Import the data\ndata = pd.read_json(\"data.json\")\n\n\n# Remove rows with missing values\ndata = data.dropna(subset=[\"title\"])\ndata = data.reset_index(drop=True)",
   "outputs": [],
   "execution_count": null
  },
  {
   "cell_type": "markdown",
   "source": "# Cleaning",
   "metadata": {
    "tags": [],
    "cell_id": "00006-fbf7586f-eba6-4dee-93fb-b1118fc895e7",
    "deepnote_cell_type": "markdown"
   }
  },
  {
   "cell_type": "markdown",
   "source": "## Clean comments function",
   "metadata": {
    "tags": [],
    "cell_id": "00007-aaea1de8-9a96-4cdd-8623-92666a14d4f7",
    "deepnote_cell_type": "markdown"
   }
  },
  {
   "cell_type": "code",
   "metadata": {
    "deepnote_to_be_reexecuted": false,
    "execution_millis": 2,
    "source_hash": "c1f24312",
    "tags": [],
    "execution_start": 1616000643015,
    "cell_id": "00008-11c00ffe-b778-4923-96c9-9edf7681e86b",
    "deepnote_cell_type": "code"
   },
   "source": "def isCleanMessage(text):\n\n    # Detect bots\n    if str(re.search(r'HTTP', text)) != \"None\":\n        return False;\n\n    if str(re.search(r'LIKE IF', text)) != \"None\":\n        return False;\n\n    if str(re.search(r'BROWSE', text)) != \"None\":\n        return False;\n\n    \n    if str(re.search(r'MY PAGE', text)) != \"None\":\n        return False;\n\n    if str(re.search(r'MY CHANNEL', text)) != \"None\":\n        return False;\n\n    if str(re.search(r'SNAP', text)) != \"None\":\n        return False;\n\n    if str(re.search(r'MY PROFILE', text)) != \"None\":\n        return False;\n    \n    if str(re.search(r'LISTEN UP SOLDIERS', text)) != \"None\":\n        return False;\n\n    # print(\"Clean message: \",text)\n    return True\n\n\ndef sortComments(comments):\n    clean = []\n    dirty = []\n    # print(co)\n    for comment in comments:\n        # tmp = comment['message'].upper() # if you want to keep the original message without uppercase but then need to make it uppercase\n        # if (isCleanMessage(tmp])):\n        comment['message'] = comment['message'].upper()\n        if (isCleanMessage(comment['message'])):\n            clean.append(comment)\n        else:\n            dirty.append(comment)\n\n    return clean, dirty\n\ndef replaceWithCleanComments(row):\n    clean, dirty = sortComments(row['comments'])\n    # row['comments'] = []\n    row['comments'] = {'clean': clean, 'dirty': dirty}\n    # row['clean_comments'] = clean\n    # row['clean_comments'] = []\n    # row['dirty_comments'] = dirty\n\n# Aggregate function\ndef cleanDataFrame(dataframe):\n    for i, r in dataframe.iterrows():\n        replaceWithCleanComments(r)",
   "outputs": [],
   "execution_count": null
  },
  {
   "cell_type": "markdown",
   "source": "## Apply the function on the data",
   "metadata": {
    "tags": [],
    "cell_id": "00009-7f19a6de-15bc-4e49-8ba0-1d2aba756947",
    "deepnote_cell_type": "markdown"
   }
  },
  {
   "cell_type": "code",
   "metadata": {
    "deepnote_to_be_reexecuted": false,
    "execution_millis": 2975,
    "source_hash": "fef1e077",
    "tags": [],
    "execution_start": 1614409329344,
    "cell_id": "00010-cff8dc63-7b8c-405c-8a32-4d9522c8f5a6",
    "deepnote_cell_type": "code"
   },
   "source": "cleanDataFrame(data)",
   "outputs": [],
   "execution_count": null
  },
  {
   "cell_type": "markdown",
   "source": "# Save the file as Json",
   "metadata": {
    "tags": [],
    "cell_id": "00011-2298156e-5c8b-49a1-ad69-f3c950387878",
    "deepnote_cell_type": "markdown"
   }
  },
  {
   "cell_type": "code",
   "metadata": {
    "deepnote_to_be_reexecuted": false,
    "execution_millis": 363,
    "source_hash": "2e0de59b",
    "tags": [],
    "execution_start": 1614409334401,
    "cell_id": "00012-6ab8ea40-6ecd-4330-bdef-4399384b1cdc",
    "deepnote_cell_type": "code"
   },
   "source": "data.to_json(r'CleanDataComments.json')",
   "outputs": [],
   "execution_count": null
  },
  {
   "cell_type": "markdown",
   "source": "<a style='text-decoration:none;line-height:16px;display:flex;color:#5B5B62;padding:10px;justify-content:end;' href='https://deepnote.com?utm_source=created-in-deepnote-cell&projectId=5b677b82-ea1e-4dc8-9b2a-3c037ad9d27c' target=\"_blank\">\n<img alt='Created in deepnote.com' style='display:inline;max-height:16px;margin:0px;margin-right:7.5px;' src='data:image/svg+xml;base64,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' > </img>\nCreated in <span style='font-weight:600;margin-left:4px;'>Deepnote</span></a>",
   "metadata": {
    "tags": [],
    "created_in_deepnote_cell": true,
    "deepnote_cell_type": "markdown"
   }
  }
 ],
 "nbformat": 4,
 "nbformat_minor": 2,
 "metadata": {
  "deepnote_execution_queue": [],
  "deepnote_notebook_id": "226617f5-c780-4e4b-ab8c-7486ad114aa3",
  "kernelspec": {
   "display_name": "Python 3",
   "language": "python",
   "name": "python3"
  },
  "language_info": {
   "codemirror_mode": {
    "name": "ipython",
    "version": 3
   },
   "file_extension": ".py",
   "mimetype": "text/x-python",
   "name": "python",
   "nbconvert_exporter": "python",
   "pygments_lexer": "ipython3",
   "version": "3.8.5"
  },
  "deepnote": {}
 }
}